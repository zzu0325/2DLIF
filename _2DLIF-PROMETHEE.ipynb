{
 "cells": [
  {
   "cell_type": "code",
   "execution_count": 1,
   "metadata": {},
   "outputs": [],
   "source": [
    "# # New-2DLIFV-PROMETHEE\n",
    "import numpy as np"
   ]
  },
  {
   "cell_type": "code",
   "execution_count": 2,
   "metadata": {},
   "outputs": [],
   "source": [
    "# Euclidean distance for 2DLIFSs\n",
    "def Eudistance(a,b,t,t1):\n",
    "    \"\"\" a,b:  list, \n",
    "              2DLIFV\n",
    "       t,t1:  int\n",
    "              t+1 is the cardinality of H and t1+1 is the cardinality of S\n",
    "    \"\"\"\n",
    "    u1=a[0];u2=a[1];u3=a[2];u4=a[3];v1=b[0];v2=b[1]; v3=b[2];v4=b[3]; \n",
    "    result1=pow(pow(u1-v1,2)/2+pow(u2-v2,2)/2,1/2)/t;\n",
    "    result2=pow(pow(u3-v3,2)/2+pow(u4-v4,2)/2,1/2)/t1;\n",
    "    result=(result1+result2)/2;\n",
    "    return result"
   ]
  },
  {
   "cell_type": "code",
   "execution_count": 3,
   "metadata": {},
   "outputs": [
    {
     "data": {
      "text/plain": [
       "0.05"
      ]
     },
     "execution_count": 3,
     "metadata": {},
     "output_type": "execute_result"
    }
   ],
   "source": [
    "# Example 3.1\n",
    "A=[3,2,6,0]\n",
    "B=[4,3,6,0]\n",
    "C=[4,1,6,0]\n",
    "D=[2,1,6,0]\n",
    "E=[2,3,6,0]\n",
    "Eudistance(A,B,10,6)"
   ]
  },
  {
   "cell_type": "code",
   "execution_count": 4,
   "metadata": {},
   "outputs": [
    {
     "data": {
      "text/plain": [
       "0.05"
      ]
     },
     "execution_count": 4,
     "metadata": {},
     "output_type": "execute_result"
    }
   ],
   "source": [
    "Eudistance(A,C,10,6)"
   ]
  },
  {
   "cell_type": "code",
   "execution_count": 5,
   "metadata": {},
   "outputs": [
    {
     "data": {
      "text/plain": [
       "0.05"
      ]
     },
     "execution_count": 5,
     "metadata": {},
     "output_type": "execute_result"
    }
   ],
   "source": [
    "Eudistance(A,D,10,6)"
   ]
  },
  {
   "cell_type": "code",
   "execution_count": 6,
   "metadata": {},
   "outputs": [
    {
     "data": {
      "text/plain": [
       "0.05"
      ]
     },
     "execution_count": 6,
     "metadata": {},
     "output_type": "execute_result"
    }
   ],
   "source": [
    "Eudistance(A,E,10,6)"
   ]
  },
  {
   "cell_type": "code",
   "execution_count": 7,
   "metadata": {},
   "outputs": [],
   "source": [
    "# Cosine similarity for 2DLIFSs\n",
    "def cosimilar(a,b,t,t1):\n",
    "    \"\"\" a,b:  list, \n",
    "              2DLIFV\n",
    "       t,t1:  int\n",
    "              t+1 is the cardinality of H and t1+1 is the cardinality of S\n",
    "    \"\"\"\n",
    "    u1=a[0];u2=a[1];u3=a[2];u4=a[3];v1=b[0];v2=b[1]; v3=b[2];v4=b[3]; # 输入两个2DLIFVs的值\n",
    "    result1=(u1*v1+u2*v2)/(pow(u1*u1+u2*u2,1/2)*pow(v1*v1+v2*v2,1/2));\n",
    "    result2=(u3*v3+u4*v4)/(pow(u3*u3+u4*u4,1/2)*pow(v3*v3+v4*v4,1/2));\n",
    "    result=(result1+result2)/2;\n",
    "    return result"
   ]
  },
  {
   "cell_type": "code",
   "execution_count": 8,
   "metadata": {},
   "outputs": [
    {
     "data": {
      "text/plain": [
       "1.0"
      ]
     },
     "execution_count": 8,
     "metadata": {},
     "output_type": "execute_result"
    }
   ],
   "source": [
    "# Example 3.2\n",
    "A=[3,3,6,0]\n",
    "B=[4,4,6,0]\n",
    "cosimilar(A,B,10,6)"
   ]
  },
  {
   "cell_type": "code",
   "execution_count": 9,
   "metadata": {},
   "outputs": [
    {
     "data": {
      "text/plain": [
       "0.8535533905932737"
      ]
     },
     "execution_count": 9,
     "metadata": {},
     "output_type": "execute_result"
    }
   ],
   "source": [
    "# Example 3.3\n",
    "A=[2,2,6,0]\n",
    "B=[3,0,6,0]\n",
    "C=[0,7,6,0]\n",
    "cosimilar(A,B,10,6)"
   ]
  },
  {
   "cell_type": "code",
   "execution_count": 10,
   "metadata": {},
   "outputs": [
    {
     "data": {
      "text/plain": [
       "0.8535533905932737"
      ]
     },
     "execution_count": 10,
     "metadata": {},
     "output_type": "execute_result"
    }
   ],
   "source": [
    "cosimilar(A,C,10,6)"
   ]
  },
  {
   "cell_type": "code",
   "execution_count": 11,
   "metadata": {},
   "outputs": [],
   "source": [
    "#  Hybrid distance for 2DLIFSs\n",
    "def distance(a,b,t,t1):\n",
    "    \"\"\" a,b:  list, \n",
    "              2DLIFV\n",
    "       t,t1:  int\n",
    "              t+1 is the cardinality of H and t1+1 is the cardinality of S\n",
    "    \"\"\"\n",
    "    u1=a[0];u2=a[1];u3=a[2];u4=a[3];v1=b[0];v2=b[1]; v3=b[2];v4=b[3]; # 输入两个2DLIFVs的值\n",
    "    result=(2*np.arccos(cosimilar(a,b,t,t1))/np.pi+Eudistance(a,b,t,t1))/2;\n",
    "    return result"
   ]
  },
  {
   "cell_type": "code",
   "execution_count": 12,
   "metadata": {},
   "outputs": [
    {
     "data": {
      "text/plain": [
       "0.0375"
      ]
     },
     "execution_count": 12,
     "metadata": {},
     "output_type": "execute_result"
    }
   ],
   "source": [
    "# Example 3.4\n",
    "A=[3,2,6,0]\n",
    "B=[4,3,6,0]\n",
    "C=[4,1,6,0]\n",
    "D=[2,1,6,0]\n",
    "E=[2,3,6,0]\n",
    "\n",
    "distance(A,B,10,6).round(4)"
   ]
  },
  {
   "cell_type": "code",
   "execution_count": 13,
   "metadata": {},
   "outputs": [
    {
     "data": {
      "text/plain": [
       "0.102"
      ]
     },
     "execution_count": 13,
     "metadata": {},
     "output_type": "execute_result"
    }
   ],
   "source": [
    "distance(A,C,10,6).round(4)"
   ]
  },
  {
   "cell_type": "code",
   "execution_count": 14,
   "metadata": {},
   "outputs": [
    {
     "data": {
      "text/plain": [
       "0.1136"
      ]
     },
     "execution_count": 14,
     "metadata": {},
     "output_type": "execute_result"
    }
   ],
   "source": [
    "distance(A,E,10,6).round(4)"
   ]
  },
  {
   "cell_type": "code",
   "execution_count": 15,
   "metadata": {},
   "outputs": [
    {
     "data": {
      "text/plain": [
       "0.025"
      ]
     },
     "execution_count": 15,
     "metadata": {},
     "output_type": "execute_result"
    }
   ],
   "source": [
    "# Example 3.5\n",
    "\n",
    "A=[3,3,6,0]\n",
    "B=[4,4,6,0]\n",
    "\n",
    "distance(A,B,10,6)"
   ]
  },
  {
   "cell_type": "code",
   "execution_count": 16,
   "metadata": {},
   "outputs": [
    {
     "data": {
      "text/plain": [
       "0.214"
      ]
     },
     "execution_count": 16,
     "metadata": {},
     "output_type": "execute_result"
    }
   ],
   "source": [
    "# Example 3.6\n",
    "A=[2,2,6,0]\n",
    "B=[3,0,6,0]\n",
    "C=[0,7,6,0]\n",
    "distance(A,B,10,6).round(4)"
   ]
  },
  {
   "cell_type": "code",
   "execution_count": 17,
   "metadata": {},
   "outputs": [
    {
     "data": {
      "text/plain": [
       "0.2696"
      ]
     },
     "execution_count": 17,
     "metadata": {},
     "output_type": "execute_result"
    }
   ],
   "source": [
    "distance(A,C,10,6).round(4)"
   ]
  },
  {
   "cell_type": "code",
   "execution_count": 18,
   "metadata": {},
   "outputs": [],
   "source": [
    "# Satisfaction degree for 2DLIFVs\n",
    "def satdgree(a,t,t1):\n",
    "    \"\"\" a：   list, \n",
    "              2DLIFV\n",
    "       t,t1:  int\n",
    "              t+1 is the cardinality of H and t1+1 is the cardinality of S\n",
    "    \"\"\"    \n",
    "    maxelement=[t,0,t1,0]\n",
    "    u1=a[0];u2=a[1];u3=a[2];u4=a[3]; # 输入两个2DLIFVs的值\n",
    "    result=1-distance(a,maxelement,t,t1);\n",
    "    return result"
   ]
  },
  {
   "cell_type": "code",
   "execution_count": 19,
   "metadata": {},
   "outputs": [
    {
     "data": {
      "text/plain": [
       "0.6798"
      ]
     },
     "execution_count": 19,
     "metadata": {},
     "output_type": "execute_result"
    }
   ],
   "source": [
    "# Example 4.1\n",
    "\n",
    "A=[2,2,6,0]\n",
    "B=[3,0,6,0]\n",
    "C=[0,7,6,0]\n",
    "satdgree(A,10,6).round(4)"
   ]
  },
  {
   "cell_type": "code",
   "execution_count": 20,
   "metadata": {},
   "outputs": [
    {
     "data": {
      "text/plain": [
       "0.8763"
      ]
     },
     "execution_count": 20,
     "metadata": {},
     "output_type": "execute_result"
    }
   ],
   "source": [
    "satdgree(B,10,6).round(4)"
   ]
  },
  {
   "cell_type": "code",
   "execution_count": 21,
   "metadata": {},
   "outputs": [
    {
     "data": {
      "text/plain": [
       "0.4509"
      ]
     },
     "execution_count": 21,
     "metadata": {},
     "output_type": "execute_result"
    }
   ],
   "source": [
    "satdgree(C,10,6).round(4)\n"
   ]
  },
  {
   "cell_type": "code",
   "execution_count": 22,
   "metadata": {},
   "outputs": [],
   "source": [
    "def Sat(a,t,t1):\n",
    "    \"\"\" a：   list of list\n",
    "              2DLIFVs\n",
    "       t,t1:  int\n",
    "              t+1 is the cardinality of H and t1+1 is the cardinality of S\n",
    "    \"\"\"      \n",
    "    maxelement=[t,0,t1,0]\n",
    "    result=np.zeros(len(a))\n",
    "    for i in range(len(a)):\n",
    "            result[i]=1-distance(a[i],maxelement,t,t1)  \n",
    "    return(result)"
   ]
  },
  {
   "cell_type": "code",
   "execution_count": 23,
   "metadata": {},
   "outputs": [],
   "source": [
    "def Satmatrix(R,t,t1):\n",
    "    \"\"\" R：   array\n",
    "              2DLIFVs\n",
    "       t,t1:  int\n",
    "              t+1 is the cardinality of H and t1+1 is the cardinality of S\n",
    "    \"\"\"  \n",
    "    maxelement=[t,0,t1,0]\n",
    "    result=np.zeros(len(R)*len(R[0])).reshape(len(R[0]),len(R))\n",
    "    for i in range(len(R)):\n",
    "        result[:,i]=Sat(R[i],t,t1)\n",
    "    return result"
   ]
  },
  {
   "cell_type": "code",
   "execution_count": 24,
   "metadata": {},
   "outputs": [
    {
     "data": {
      "text/plain": [
       "[[[2, 5, 1, 3], [4, 1, 2, 1], [2, 3, 1, 1], [5, 2, 3, 1]],\n",
       " [[4, 2, 2, 1], [2, 4, 2, 1], [4, 1, 1, 1], [3, 5, 1, 2]],\n",
       " [[2, 3, 1, 1], [2, 3, 2, 1], [4, 1, 2, 1], [3, 4, 2, 1]],\n",
       " [[2, 4, 2, 1], [3, 4, 1, 2], [3, 1, 1, 2], [4, 2, 2, 1]]]"
      ]
     },
     "execution_count": 24,
     "metadata": {},
     "output_type": "execute_result"
    }
   ],
   "source": [
    "# Example 6.1\n",
    "#  decision matrix\n",
    "\n",
    "e2a11=[2,5,1,3]\n",
    "e2a21=[4,1,2,1]\n",
    "e2a31=[2,3,1,1]\n",
    "e2a41=[5,2,3,1]\n",
    "e2C1=[e2a11,e2a21,e2a31,e2a41]\n",
    "e2a12=[4,2,2,1]\n",
    "e2a22=[2,4,2,1]\n",
    "e2a32=[4,1,1,1]\n",
    "e2a42=[3,5,1,2]\n",
    "e2C2=[e2a12,e2a22,e2a32,e2a42]\n",
    "e2C2\n",
    "e2a13=[2,3,1,1]\n",
    "e2a23=[2,3,2,1]\n",
    "e2a33=[4,1,2,1]\n",
    "e2a43=[3,4,2,1]\n",
    "e2C3=[e2a13,e2a23,e2a33,e2a43]\n",
    "e2C3\n",
    "e2a14=[2,4,2,1]\n",
    "e2a24=[3,4,1,2]\n",
    "e2a34=[3,1,1,2]\n",
    "e2a44=[4,2,2,1]\n",
    "e2C4=[e2a14,e2a24,e2a34,e2a44]\n",
    "e2C4\n",
    "R2=[e2C1,e2C2,e2C3,e2C4]    \n",
    "R2 # decision matrix"
   ]
  },
  {
   "cell_type": "code",
   "execution_count": 25,
   "metadata": {},
   "outputs": [],
   "source": [
    "# Improved preference functions\n",
    "def P1(Cn):\n",
    "    S=Sat(Cn,8,4)\n",
    "    re=np.zeros(len(Cn)*len(Cn)).reshape(len(Cn),len(Cn))\n",
    "    for i in range(len(Cn)):\n",
    "        for j in range(len(Cn)):\n",
    "            if S[i]<=S[j]:\n",
    "                re[j,i]=0\n",
    "            else:\n",
    "                re[j,i]=1\n",
    "    return re\n",
    "def P2(Cn,q):\n",
    "    S=Sat(Cn,8,4)\n",
    "    re=np.zeros(len(Cn)*len(Cn)).reshape(len(Cn),len(Cn))\n",
    "    for i in range(len(Cn)):\n",
    "        for j in range(len(Cn)):\n",
    "            if S[i]<= S[j]+q:\n",
    "                re[j,i]=0\n",
    "            else:\n",
    "                re[j,i]=1\n",
    "    return re\n",
    "def P3(Cn,p):\n",
    "    S=Sat(Cn,8,4)\n",
    "    re=np.zeros(len(Cn)*len(Cn)).reshape(len(Cn),len(Cn))\n",
    "    for i in range(len(Cn)):\n",
    "        for j in range(len(Cn)):\n",
    "            if S[i]<=S[j]:\n",
    "                re[j,i]=0\n",
    "            elif S[i]>=S[j]+p:   \n",
    "                re[j,i]=1\n",
    "            else:\n",
    "                re[j,i]=(S[i]-S[j])/p\n",
    "    return re\n",
    "def P4(Cn,p,q):\n",
    "    S=Sat(Cn,8,4)\n",
    "    re=np.zeros(len(Cn)*len(Cn)).reshape(len(Cn),len(Cn))\n",
    "    for i in range(len(Cn)):\n",
    "        for j in range(len(Cn)):\n",
    "            if S[i]<=S[j]+q:\n",
    "                re[j,i]=0\n",
    "            elif S[i]>=S[j]+p:   \n",
    "                re[j,i]=1\n",
    "            else:\n",
    "                re[j,i]=0.5\n",
    "    return re\n",
    "def P5(Cn,p,q):\n",
    "    S=Sat(Cn,8,4)\n",
    "    re=np.zeros(len(Cn)*len(Cn)).reshape(len(Cn),len(Cn))\n",
    "    for i in range(len(Cn)):\n",
    "        for j in range(len(Cn)):\n",
    "            if S[i]<=S[j]+q:\n",
    "                re[j,i]=0\n",
    "            elif S[i]>=S[j]+p:   \n",
    "                re[j,i]=1\n",
    "            else:\n",
    "                re[j,i]=(S[i]-S[j]-q)/(p-q)\n",
    "    return re\n",
    "def P6(Cn,sigma=1):\n",
    "    S=Sat(Cn,8,4)\n",
    "    re=np.zeros(len(Cn)*len(Cn)).reshape(len(Cn),len(Cn))\n",
    "    for i in range(len(Cn)):\n",
    "        for j in range(len(Cn)):\n",
    "            if S[i]<=S[j]:\n",
    "                re[j,i]=0\n",
    "            else:\n",
    "                re[j,i]=round(1-np.exp(-pow(S[i]-S[j],2)/(2*pow(sigma,2))),4)\n",
    "    return re\n"
   ]
  },
  {
   "cell_type": "code",
   "execution_count": 26,
   "metadata": {},
   "outputs": [],
   "source": [
    "# the weight vector of attributes.\n",
    "w=[0.30,0.30, 0.25, 0.15]"
   ]
  },
  {
   "cell_type": "code",
   "execution_count": 27,
   "metadata": {},
   "outputs": [
    {
     "data": {
      "text/plain": [
       "array([[0.        , 0.309075  , 0.23511704, 0.42057902],\n",
       "       [0.21078791, 0.        , 0.25133394, 0.150425  ],\n",
       "       [0.00120397, 0.3       , 0.        , 0.40853299],\n",
       "       [0.3       , 0.15      , 0.184675  , 0.        ]])"
      ]
     },
     "execution_count": 27,
     "metadata": {},
     "output_type": "execute_result"
    }
   ],
   "source": [
    "# Table 3: Results of comprehensive preference degree\n",
    "PI=w[0]*P5(e2C1,0.25,0.1)+w[1]*P4(e2C2,0.25,0.1)+w[2]*P6(e2C3,0.3)+w[3]*P3(e2C4,0.25)\n",
    "PI"
   ]
  },
  {
   "cell_type": "code",
   "execution_count": 28,
   "metadata": {},
   "outputs": [
    {
     "name": "stdout",
     "output_type": "stream",
     "text": [
      "positive flows [0.51199188 0.759075   0.67112599 0.97953701]\n",
      "positive flows rank [4 2 3 1]\n",
      "negative flows [0.96477107 0.61254685 0.70973696 0.634675  ]\n",
      "negative flows rank [2 4 3 1]\n"
     ]
    }
   ],
   "source": [
    "# Table 4: Results of the 2DLIF flows Ψ+, Ψ− and ΨN\n",
    "positive=np.sum(PI,axis=0) \n",
    "print(\"positive flows\", positive)\n",
    "print(\"positive flows rank\",np.argsort(-positive)+1)\n",
    "negative=np.sum(PI,axis=1)\n",
    "print(\"negative flows\", negative)\n",
    "print(\"negative flows rank\",np.argsort(negative)+1)"
   ]
  },
  {
   "cell_type": "code",
   "execution_count": 29,
   "metadata": {},
   "outputs": [
    {
     "name": "stdout",
     "output_type": "stream",
     "text": [
      "-0.45278\n",
      "0.14653\n",
      "-0.03861\n",
      "0.34486\n"
     ]
    }
   ],
   "source": [
    "# net flow\n",
    "PINET=np.sum(PI,axis=0)-np.sum(PI,axis=1) \n",
    "for i in range(len(PINET)):\n",
    "    print(round(PINET[i],5))"
   ]
  },
  {
   "cell_type": "code",
   "execution_count": 30,
   "metadata": {},
   "outputs": [
    {
     "data": {
      "text/plain": [
       "array([4, 2, 3, 1], dtype=int64)"
      ]
     },
     "execution_count": 30,
     "metadata": {},
     "output_type": "execute_result"
    }
   ],
   "source": [
    "np.argsort(-PINET)+1 "
   ]
  },
  {
   "cell_type": "markdown",
   "metadata": {},
   "source": [
    "6.3 Comparative analysis\n",
    "\n",
    "Vierma’s method"
   ]
  },
  {
   "cell_type": "code",
   "execution_count": 31,
   "metadata": {},
   "outputs": [
    {
     "name": "stdout",
     "output_type": "stream",
     "text": [
      "score [0.2394, 0.3118, 0.3245, 0.3362]\n",
      "rank [1 2 3 4]\n"
     ]
    }
   ],
   "source": [
    "#!/usr/bin/env python\n",
    "# coding: utf-8\n",
    "\n",
    "# @article{Verma2020,\n",
    "# \ttitle={Multiple attribute group decision making based on 2-dimension linguistic intuitionistic fuzzy aggregation operators},\n",
    "# \tauthor={ R. Verma  and  J. M. Merig\\'{o}},\n",
    "# \tjournal={Soft Computing},\n",
    "# \tvolume={24},\n",
    "# \tpages={17377-17400},\n",
    "# \tyear={2020},\n",
    "# }\n",
    "\n",
    "# # Definition of operation function\n",
    "def oplus(a,b,t,t1):\n",
    "    \"\"\" a,b:  list, \n",
    "              2DLIFV\n",
    "       t,t1: int\n",
    "            t+1 is the cardinality of H and t1+1 is the cardinality of S\n",
    "    \"\"\"\n",
    "    u1=a[0];u2=a[1];u3=a[2];u4=a[3];v1=b[0];v2=b[1]; v3=b[2];v4=b[3]; \n",
    "    result=[u1+v1-(u1*v1)/t,(u2*v2)/t,u3+v3-(u3*v3)/t1,(u4*v4)/t1];\n",
    "    return result\n",
    "def otimes(a,b,t,t1):\n",
    "    \"\"\" a,b:  list, \n",
    "              2DLIFV\n",
    "       t,t1: int\n",
    "            t+1 is the cardinality of H and t1+1 is the cardinality of S\n",
    "    \"\"\"    \n",
    "    u1=a[0];u2=a[1];u3=a[2];u4=a[3];v1=b[0];v2=b[1]; v3=b[2];v4=b[3]; \n",
    "    result=[(u1*v1)/t,u2+v2-(u2*v2)/t,(u3*v3)/t1,u4+v4-(u4*v4)/t1];\n",
    "    return result\n",
    "\n",
    "def nummultiply(a,lamda,t,t1):\n",
    "    \"\"\" a:  list, \n",
    "             2DLIFVs\n",
    "        t,t1: int\n",
    "            t+1 is the cardinality of H and t1+1 is the cardinality of S\n",
    "       lamda: float\n",
    "    \"\"\"\n",
    "    u1=a[0];u2=a[1];u3=a[2];u4=a[3];  \n",
    "    result=[t*(1-pow(1-u1/t,lamda)),t*pow(u2/t,lamda),t1*(1-pow(1-u3/t1,lamda)),t1*pow(u4/t1,lamda)];\n",
    "    return result\n",
    "\n",
    "def powmultiply(a,lamda,t,t1):\n",
    "    \"\"\" a:   list, \n",
    "            2DLIFV\n",
    "        t,t1: int\n",
    "            t+1 is the cardinality of H and t1+1 is the cardinality of S\n",
    "        lamda: float\n",
    "    \"\"\"\n",
    "    u1=a[0];u2=a[1];u3=a[2];u4=a[3];  \n",
    "    result=[t*pow(u1/t,lamda),t*(1-pow(1-u2/t,lamda)),t1*pow(u3/t1,lamda),t1*(1-pow(1-u4/t1,lamda))];\n",
    "    return result\n",
    "\n",
    "def score(a,t,t1):\n",
    "    u1=a[0];u2=a[1];u3=a[2];u4=a[3];  \n",
    "    result=((t+u1-u2)/(2*t))*((t1+u3-u4)/(2*t1));\n",
    "    return round(result,4)\n",
    "\n",
    "FinalR=[]\n",
    "for i in range(4):\n",
    "    z=[0,8,0,4]                            \n",
    "    for j in range(4):\n",
    "        z=oplus(z,nummultiply(R2[j][i],w[j],8,4),8,4)\n",
    "    FinalR.append(z)\n",
    "\n",
    "aggscore=[]\n",
    "for i in range(len(FinalR)):\n",
    "    aggscore.append(score(FinalR[i],8,4))               \n",
    "print(\"score\",aggscore)\n",
    "\n",
    "print(\"rank\",np.argsort(aggscore)+1 )                    \n"
   ]
  },
  {
   "cell_type": "markdown",
   "metadata": {},
   "source": [
    "Zhao’s method"
   ]
  },
  {
   "cell_type": "code",
   "execution_count": 32,
   "metadata": {},
   "outputs": [
    {
     "name": "stdout",
     "output_type": "stream",
     "text": [
      "0.43701\n",
      "-0.34686\n",
      "-0.55923\n",
      "0.46909\n"
     ]
    },
    {
     "data": {
      "text/plain": [
       "array([4, 1, 2, 3], dtype=int64)"
      ]
     },
     "execution_count": 32,
     "metadata": {},
     "output_type": "execute_result"
    }
   ],
   "source": [
    "def SA(a):\n",
    "    s=a[0];h=a[1];\n",
    "    tau=2;\n",
    "    gama=4;\n",
    "    result=(s+1)*(h+1)/((tau+1)*(gama+1));\n",
    "    return round(result,4)\n",
    "\n",
    "def PD(a1,a2):\n",
    "    s1=a1[0];h1=a1[1];s2=a2[0];h2=a2[1];\n",
    "    tau=2;\n",
    "    gama=4;\n",
    "    xi=max(h1-h2,0)*abs(s1-s2)/((tau+1)*(gama+1));\n",
    "    wedge=[min(s1,s2),min(h1,h2)];\n",
    "    vee=[max(s1,s2),max(h1,h2)];\n",
    "    if s1<s2 and h1<=h2 or s1<=s2 and h1<h2:\n",
    "        return(0)\n",
    "    elif s1>s2 and h1>=h2 or s1>=s2 and h1>h2:\n",
    "        return(1)\n",
    "    else:\n",
    "        return (SA(a1)+xi)/(SA(wedge)+SA(vee))  \n",
    "\n",
    "\n",
    "def PDMatrix(a):\n",
    "    result=np.zeros(len(a)*len(a)).reshape(len(a),len(a))\n",
    "    for i in range(len(a)):\n",
    "        for j in range(len(a)):\n",
    "            result[i,j]=PD(a[i],a[j])  \n",
    "    return(result)\n",
    "\n",
    "\n",
    "\n",
    "def PDI(a):\n",
    "    result=np.zeros(len(a))\n",
    "    for i in range (len(a)):\n",
    "        result[i]=(sum(PDMatrix(a)[i,])+len(a)/2-1)/(len(a)*(len(a)-1))\n",
    "    return(result)\n",
    "\n",
    "\n",
    "def PDIDFMatrix(PDIvalue):\n",
    "    result=np.zeros(len(PDIvalue)*len(PDIvalue)).reshape(len(PDIvalue),len(PDIvalue))\n",
    "    for i in range(len(PDIvalue)):\n",
    "        for j in range(len(PDIvalue)):\n",
    "            result[i,j]=PDIvalue[i]-PDIvalue[j]\n",
    "    return(result)\n",
    "\n",
    "\n",
    "\n",
    "\n",
    "def P1(Cn):\n",
    "    PDIC=PDI(Cn)\n",
    "    PDICmatrix=PDIDFMatrix(PDIC)\n",
    "    re=np.zeros(len(Cn)*len(Cn)).reshape(len(Cn),len(Cn))\n",
    "    for i in range(len(Cn)):\n",
    "        for j in range(len(Cn)):\n",
    "            if PDICmatrix[i,j]<=0:\n",
    "                re[i,j]=0\n",
    "            else:\n",
    "                re[i,j]=1\n",
    "    return re\n",
    "\n",
    "\n",
    "\n",
    "\n",
    "def P2(Cn,q):\n",
    "    PDIC=PDI(Cn)\n",
    "    PDICmatrix=PDIDFMatrix(PDIC)\n",
    "    re=np.zeros(len(Cn)*len(Cn)).reshape(len(Cn),len(Cn))\n",
    "    for i in range(len(Cn)):\n",
    "        for j in range(len(Cn)):\n",
    "            if PDICmatrix[i,j]<=q:\n",
    "                re[i,j]=0\n",
    "            else:\n",
    "                re[i,j]=1\n",
    "    return re\n",
    "\n",
    "\n",
    "\n",
    "\n",
    "\n",
    "def P3(Cn,p):\n",
    "    PDIC=PDI(Cn)\n",
    "    PDICmatrix=PDIDFMatrix(PDIC)\n",
    "    re=np.zeros(len(Cn)*len(Cn)).reshape(len(Cn),len(Cn))\n",
    "    for i in range(len(Cn)):\n",
    "        for j in range(len(Cn)):\n",
    "            if PDICmatrix[i,j]<=0:\n",
    "                re[i,j]=0\n",
    "            elif PDICmatrix[i,j]>p:\n",
    "                re[i,j]=1\n",
    "            else:\n",
    "                re[i,j]=PDICmatrix[i,j]/p\n",
    "    return re\n",
    "\n",
    "\n",
    "\n",
    "\n",
    "\n",
    "def P4(Cn,q,p):\n",
    "    PDIC=PDI(Cn)\n",
    "    PDICmatrix=PDIDFMatrix(PDIC)\n",
    "    re=np.zeros(len(Cn)*len(Cn)).reshape(len(Cn),len(Cn))\n",
    "    for i in range(len(Cn)):\n",
    "        for j in range(len(Cn)):\n",
    "            if PDICmatrix[i,j]<=q:\n",
    "                re[i,j]=0\n",
    "            elif PDICmatrix[i,j]>p:\n",
    "                re[i,j]=1\n",
    "            else:\n",
    "                re[i,j]=0.5\n",
    "    return re\n",
    "\n",
    "\n",
    "\n",
    "\n",
    "\n",
    "def P5(Cn,q,p):\n",
    "    PDIC=PDI(Cn)\n",
    "    PDICmatrix=PDIDFMatrix(PDIC)\n",
    "    re=np.zeros(len(Cn)*len(Cn)).reshape(len(Cn),len(Cn))\n",
    "    for i in range(len(Cn)):\n",
    "        for j in range(len(Cn)):\n",
    "            if PDICmatrix[i,j]<=q:\n",
    "                re[i,j]=0\n",
    "            elif PDICmatrix[i,j]>p:\n",
    "                re[i,j]=1\n",
    "            else:\n",
    "                re[i,j]=(PDICmatrix[i,j]-q)/(p-q)\n",
    "    return re\n",
    "\n",
    "\n",
    "\n",
    "\n",
    "def P6(Cn,sigma=1):\n",
    "    PDIC=PDI(Cn)\n",
    "    PDICmatrix=PDIDFMatrix(PDIC)\n",
    "    re=np.zeros(len(Cn)*len(Cn)).reshape(len(Cn),len(Cn))\n",
    "    for i in range(len(Cn)):\n",
    "        for j in range(len(Cn)):\n",
    "            if PDICmatrix[i,j]<=0:\n",
    "                re[i,j]=0\n",
    "            else:\n",
    "                re[i,j]=round(1-np.exp(-pow(PDICmatrix[i,j],2)/(2*pow(sigma,2))),4)\n",
    "    return re\n",
    "\n",
    "\n",
    "e2a11=[2,1]\n",
    "e2a21=[4,2]\n",
    "e2a31=[2,1]\n",
    "e2a41=[5,3]\n",
    "e2C1=[e2a11,e2a21,e2a31,e2a41]\n",
    "e2C1\n",
    "\n",
    "\n",
    "# In[7]:\n",
    "\n",
    "\n",
    "e2a12=[4,2]\n",
    "e2a22=[2,2]\n",
    "e2a32=[4,1]\n",
    "e2a42=[3,1]\n",
    "e2C2=[e2a12,e2a22,e2a32,e2a42]\n",
    "e2C2\n",
    "\n",
    "\n",
    "# In[8]:\n",
    "\n",
    "\n",
    "e2a13=[2,1]\n",
    "e2a23=[2,2]\n",
    "e2a33=[4,2]\n",
    "e2a43=[3,2]\n",
    "e2C3=[e2a13,e2a23,e2a33,e2a43]\n",
    "e2C3\n",
    "\n",
    "\n",
    "# In[9]:\n",
    "\n",
    "\n",
    "e2a14=[2,2]\n",
    "e2a24=[3,1]\n",
    "e2a34=[3,1]\n",
    "e2a44=[4,2]\n",
    "e2C4=[e2a14,e2a24,e2a34,e2a44]\n",
    "e2C4\n",
    "\n",
    "\n",
    "# In[10]:\n",
    "\n",
    "\n",
    "R2=[e2C1,e2C2,e2C3,e2C4]   #专家E2的决策矩阵R2\n",
    "R2\n",
    "\n",
    "\n",
    "PI=w[0]*P5(e2C1,0.1,0.25)+w[1]*P4(e2C2,0.1,0.)+w[2]*P6(e2C3,0.3)+w[3]*P3(e2C4,0.25)\n",
    "PI\n",
    "\n",
    "\n",
    "\n",
    "\n",
    "\n",
    "positive=np.sum(PI,axis=1)\n",
    "positive\n",
    "np.argsort(positive)+1 \n",
    "\n",
    "negative=np.sum(PI,axis=0) \n",
    "negative\n",
    "\n",
    "\n",
    "np.argsort(negative)+1 \n",
    "\n",
    "\n",
    "PINET=np.sum(PI,axis=1)-np.sum(PI,axis=0) \n",
    "for i in range(len(PINET)):\n",
    "    print(round(PINET[i],5))\n",
    "\n",
    "np.argsort(-PINET)+1    \n"
   ]
  },
  {
   "cell_type": "code",
   "execution_count": null,
   "metadata": {},
   "outputs": [],
   "source": []
  }
 ],
 "metadata": {
  "kernelspec": {
   "display_name": "Python 3",
   "language": "python",
   "name": "python3"
  },
  "language_info": {
   "codemirror_mode": {
    "name": "ipython",
    "version": 3
   },
   "file_extension": ".py",
   "mimetype": "text/x-python",
   "name": "python",
   "nbconvert_exporter": "python",
   "pygments_lexer": "ipython3",
   "version": "3.7.6"
  },
  "toc": {
   "base_numbering": 1,
   "nav_menu": {},
   "number_sections": true,
   "sideBar": true,
   "skip_h1_title": false,
   "title_cell": "Table of Contents",
   "title_sidebar": "Contents",
   "toc_cell": false,
   "toc_position": {},
   "toc_section_display": true,
   "toc_window_display": false
  }
 },
 "nbformat": 4,
 "nbformat_minor": 4
}
